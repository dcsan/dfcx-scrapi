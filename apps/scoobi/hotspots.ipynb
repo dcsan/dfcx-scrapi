{
 "cells": [
  {
   "cell_type": "markdown",
   "metadata": {},
   "source": [
    "# Setup"
   ]
  },
  {
   "cell_type": "code",
   "execution_count": null,
   "metadata": {},
   "outputs": [],
   "source": [
    "import os,sys\n",
    "%load_ext autoreload\n",
    "%autoreload 2\n",
    "# if the notebook is in a subdirectory\n",
    "module_path = os.path.abspath(os.path.join('../'))\n",
    "import pprint\n",
    "import pandas as pd\n",
    "\n",
    "# importlib.reload(Cli)\n",
    "from lib.data.biglib import BigLib\n",
    "from config.client_config import clientConfig\n",
    "\n",
    "pp = pprint.PrettyPrinter(indent=4)\n",
    "\n",
    "BigLib.configure(clientConfig)\n",
    "\n",
    "def set_pandas_display_options() -> None:\n",
    "    \"\"\"Set pandas display options.\"\"\"\n",
    "    # Ref: https://stackoverflow.com/a/52432757/\n",
    "    display = pd.options.display\n",
    "    display.max_columns = 1000\n",
    "    display.max_rows = 1000\n",
    "    display.max_colwidth = 199\n",
    "    display.width = 1000\n",
    "    # display.precision = 2  # set as needed\n",
    "\n",
    "set_pandas_display_options()\n"
   ]
  },
  {
   "cell_type": "code",
   "execution_count": null,
   "metadata": {},
   "outputs": [],
   "source": [
    "# from ipywidgets import Layout\n",
    "# from ipysankeywidget import SankeyWidget\n",
    "from tools.viz.sankey import Sankey\n",
    "import numpy as np\n",
    "import plotly.graph_objects as go\n",
    " \n",
    "def draw_one(use_case=None, set_name=None, limit=50, sprint=None, where=\"\", fname=None):\n",
    "    where = f'dataset_display_name = \"{set_name}\" and use_case=\"{use_case}\" '\n",
    "    df = Sankey.query_paths(use_case=use_case, limit=limit, sprint=sprint, where=where)\n",
    "    # remove self cycles\n",
    "    # cycles = df[df.source == df.target].index\n",
    "    # df = df.drop(cycles)\n",
    "\n",
    "    fname = f\"sp_{sprint}_{set_name}_{use_case}\"\n",
    "    # fname = fname or f'{where}-{use_case}-s{sprint}-d{limit}'\n",
    "    base_path = f'./data/ignored/sankeys/{fname}'\n",
    "\n",
    "    img_path = f'{base_path}.png'\n",
    "    html_path = f'{base_path}.html'\n",
    "    title = f'{where} | use_case: {use_case} | sprint: {sprint} | limit: {limit}'\n",
    "\n",
    "    links = df.to_dict('records')\n",
    "\n",
    "    df = pd.DataFrame(links)\n",
    "    names = np.unique(df[[\"source\",\"target\"]], axis=None)\n",
    "    nodes = pd.Series(index=names, data=range(len(names)))\n",
    "    # df['label'] = nodes.index\n",
    "\n",
    "    print('nodes\\n', nodes)\n",
    "    print('df\\n', df.head(50))\n",
    "\n",
    "    fig = go.Figure(\n",
    "        go.Sankey(\n",
    "            # node={\"label\": df['label']},\n",
    "            node={\"label\": nodes.index},\n",
    "            arrangement='snap',\n",
    "            link={\n",
    "                \"source\": nodes.loc[df[\"source\"]],\n",
    "                \"target\": nodes.loc[df[\"target\"]],\n",
    "                \"value\": df[\"value\"],\n",
    "                # \"label\": df[\"value\"]\n",
    "            },\n",
    "        )\n",
    "    )\n",
    "\n",
    "    fig.update_layout(\n",
    "        title_text=title, \n",
    "        font_size=14,\n",
    "        width=1920, \n",
    "        height=1080\n",
    "    )\n",
    "\n",
    "    print('render to:', img_path)\n",
    "    fig.write_image(img_path)\n",
    "    fig.write_html(file=html_path)\n",
    "    fig.show()\n",
    "    return fig\n",
    "\n",
    "set_name='sp24-XX-voice'\n",
    "use_case='FLOWNAME'\n",
    "\n",
    "print('set_name', set_name)\n",
    "\n",
    "fig = draw_one(\n",
    "    # where=where, \n",
    "    sprint=24,\n",
    "    set_name=set_name,\n",
    "    use_case=use_case,\n",
    "    limit=100, \n",
    "    )\n"
   ]
  },
  {
   "cell_type": "code",
   "execution_count": null,
   "metadata": {},
   "outputs": [],
   "source": [
    "\n",
    "cases = [\n",
    "    'FLOW1',\n",
    "    'FLOW2'\n",
    "]\n",
    "\n",
    "def loop():\n",
    "    for sprint in [22]:\n",
    "        for use_case in cases:\n",
    "            print('sk:', use_case)\n",
    "            sk = draw_one(use_case, limit=50, sprint=sprint)\n",
    "\n",
    "loop()"
   ]
  },
  {
   "cell_type": "code",
   "execution_count": null,
   "metadata": {},
   "outputs": [],
   "source": []
  }
 ],
 "metadata": {
  "environment": {
   "name": "common-cpu.mnightly-2021-01-20-debian-10-test",
   "type": "gcloud",
   "uri": "gcr.io/deeplearning-platform-release/base-cpu:mnightly-2021-01-20-debian-10-test"
  },
  "interpreter": {
   "hash": "92b72b6124fb018970080d289cb21993aefa2c16feaa81200161488eb6a01417"
  },
  "kernelspec": {
   "display_name": "Python 3.9.7 64-bit ('venv': venv)",
   "name": "python3"
  },
  "language_info": {
   "codemirror_mode": {
    "name": "ipython",
    "version": 3
   },
   "file_extension": ".py",
   "mimetype": "text/x-python",
   "name": "python",
   "nbconvert_exporter": "python",
   "pygments_lexer": "ipython3",
   "version": "3.9.7"
  },
  "widgets": {
   "application/vnd.jupyter.widget-state+json": {
    "state": {},
    "version_major": 2,
    "version_minor": 0
   }
  }
 },
 "nbformat": 4,
 "nbformat_minor": 4
}
